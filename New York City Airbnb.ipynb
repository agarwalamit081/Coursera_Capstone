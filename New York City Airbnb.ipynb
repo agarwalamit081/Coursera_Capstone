{
    "nbformat_minor": 1, 
    "cells": [
        {
            "source": "# Coursera Capstone Project", 
            "cell_type": "markdown", 
            "metadata": {
                "collapsed": true
            }
        }, 
        {
            "source": "## About the data set\n\n### Context\nThis dataset can help us analyze the world population by gender, country and look into different population trends\n\n### Content\nThis data file includes the world population (past, current and predicted) statistics by countries from 1950 until 2100 \n\n### Acknowledgements\nThis public dataset is part of UN, and the original source can be found on https://population.un.org/wpp/Download/Standard/CSV/.\n\n### Inspiration\nThe explosion of world population and a constraint on global resources makes it imperitive to analyze the world population and how to deal with it", 
            "cell_type": "markdown", 
            "metadata": {}
        }, 
        {
            "source": "import itertools\nimport numpy as np\nimport matplotlib.pyplot as plt\nfrom matplotlib.ticker import NullFormatter\nimport pandas as pd\nimport numpy as np\nimport matplotlib.ticker as ticker\nfrom sklearn import preprocessing\n%matplotlib inline", 
            "cell_type": "code", 
            "execution_count": 14, 
            "outputs": [], 
            "metadata": {}
        }, 
        {
            "source": "print('Hello Capstone Project Course!')", 
            "cell_type": "code", 
            "execution_count": 15, 
            "outputs": [
                {
                    "output_type": "stream", 
                    "name": "stdout", 
                    "text": "Hello Capstone Project Course!\n"
                }
            ], 
            "metadata": {}
        }, 
        {
            "source": "# importing the data set\n!wget -O WPP2019_TotalPopulationBySex.csv \"https://population.un.org/wpp/Download/Files/1_Indicators%20(Standard)/CSV_FILES/WPP2019_TotalPopulationBySex.csv\"", 
            "cell_type": "code", 
            "execution_count": 12, 
            "outputs": [
                {
                    "output_type": "stream", 
                    "name": "stdout", 
                    "text": "--2019-08-30 09:49:28--  https://population.un.org/wpp/Download/Files/1_Indicators%20(Standard)/CSV_FILES/WPP2019_TotalPopulationBySex.csv\nResolving population.un.org (population.un.org)... 157.150.185.69\nConnecting to population.un.org (population.un.org)|157.150.185.69|:443... connected.\nHTTP request sent, awaiting response... 200 OK\nLength: 30091435 (29M) [application/octet-stream]\nSaving to: \u2018WPP2019_TotalPopulationBySex.csv\u2019\n\n100%[======================================>] 30,091,435  1.20MB/s   in 29s    \n\n2019-08-30 09:49:57 (1023 KB/s) - \u2018WPP2019_TotalPopulationBySex.csv\u2019 saved [30091435/30091435]\n\n"
                }
            ], 
            "metadata": {}
        }, 
        {
            "source": "### About dataset\nThe data set contains fields such as LocID, Location, VarID, Variant, Time, MidPeriod, PopMale, PopFemale, PopTotal\n\n", 
            "cell_type": "markdown", 
            "metadata": {}
        }, 
        {
            "source": "df = pd.read_csv('WPP2019_TotalPopulationBySex.csv', encoding='latin-1')\ndf.head()", 
            "cell_type": "code", 
            "execution_count": 17, 
            "outputs": [
                {
                    "output_type": "execute_result", 
                    "metadata": {}, 
                    "data": {
                        "text/html": "<div>\n<style scoped>\n    .dataframe tbody tr th:only-of-type {\n        vertical-align: middle;\n    }\n\n    .dataframe tbody tr th {\n        vertical-align: top;\n    }\n\n    .dataframe thead th {\n        text-align: right;\n    }\n</style>\n<table border=\"1\" class=\"dataframe\">\n  <thead>\n    <tr style=\"text-align: right;\">\n      <th></th>\n      <th>LocID</th>\n      <th>Location</th>\n      <th>VarID</th>\n      <th>Variant</th>\n      <th>Time</th>\n      <th>MidPeriod</th>\n      <th>PopMale</th>\n      <th>PopFemale</th>\n      <th>PopTotal</th>\n    </tr>\n  </thead>\n  <tbody>\n    <tr>\n      <th>0</th>\n      <td>4</td>\n      <td>Afghanistan</td>\n      <td>2</td>\n      <td>Medium</td>\n      <td>1950</td>\n      <td>1950.5</td>\n      <td>4099.243</td>\n      <td>3652.874</td>\n      <td>7752.117</td>\n    </tr>\n    <tr>\n      <th>1</th>\n      <td>4</td>\n      <td>Afghanistan</td>\n      <td>2</td>\n      <td>Medium</td>\n      <td>1951</td>\n      <td>1951.5</td>\n      <td>4134.756</td>\n      <td>3705.395</td>\n      <td>7840.151</td>\n    </tr>\n    <tr>\n      <th>2</th>\n      <td>4</td>\n      <td>Afghanistan</td>\n      <td>2</td>\n      <td>Medium</td>\n      <td>1952</td>\n      <td>1952.5</td>\n      <td>4174.450</td>\n      <td>3761.546</td>\n      <td>7935.996</td>\n    </tr>\n    <tr>\n      <th>3</th>\n      <td>4</td>\n      <td>Afghanistan</td>\n      <td>2</td>\n      <td>Medium</td>\n      <td>1953</td>\n      <td>1953.5</td>\n      <td>4218.336</td>\n      <td>3821.348</td>\n      <td>8039.684</td>\n    </tr>\n    <tr>\n      <th>4</th>\n      <td>4</td>\n      <td>Afghanistan</td>\n      <td>2</td>\n      <td>Medium</td>\n      <td>1954</td>\n      <td>1954.5</td>\n      <td>4266.484</td>\n      <td>3884.832</td>\n      <td>8151.316</td>\n    </tr>\n  </tbody>\n</table>\n</div>", 
                        "text/plain": "   LocID     Location  VarID Variant  Time  MidPeriod   PopMale  PopFemale  \\\n0      4  Afghanistan      2  Medium  1950     1950.5  4099.243   3652.874   \n1      4  Afghanistan      2  Medium  1951     1951.5  4134.756   3705.395   \n2      4  Afghanistan      2  Medium  1952     1952.5  4174.450   3761.546   \n3      4  Afghanistan      2  Medium  1953     1953.5  4218.336   3821.348   \n4      4  Afghanistan      2  Medium  1954     1954.5  4266.484   3884.832   \n\n   PopTotal  \n0  7752.117  \n1  7840.151  \n2  7935.996  \n3  8039.684  \n4  8151.316  "
                    }, 
                    "execution_count": 17
                }
            ], 
            "metadata": {}
        }, 
        {
            "source": "df.shape", 
            "cell_type": "code", 
            "execution_count": 18, 
            "outputs": [
                {
                    "output_type": "execute_result", 
                    "metadata": {}, 
                    "data": {
                        "text/plain": "(422655, 9)"
                    }, 
                    "execution_count": 18
                }
            ], 
            "metadata": {}
        }, 
        {
            "source": "df['Location'].value_counts()", 
            "cell_type": "code", 
            "execution_count": 20, 
            "outputs": [
                {
                    "output_type": "execute_result", 
                    "metadata": {}, 
                    "data": {
                        "text/plain": "Europe                                                         2966\nLatin America and the Caribbean                                2966\nNorthern America                                               2966\nBahrain                                                        1483\nSamoa                                                          1483\nUganda                                                         1483\nSouth Sudan                                                    1483\nSaint Kitts and Nevis                                          1483\nCambodia                                                       1483\nSpain                                                          1483\nMicronesia                                                     1483\nEritrea                                                        1483\nWestern Africa                                                 1483\nSerbia                                                         1483\nAlbania                                                        1483\nKuwait                                                         1483\nEcuador                                                        1483\nWallis and Futuna Islands                                      1483\nCosta Rica                                                     1483\nCameroon                                                       1483\nChannel Islands                                                1483\nGuadeloupe                                                     1483\nLess developed regions, excluding least developed countries    1483\nLeast developed countries                                      1483\nUnited States of America                                       1483\nGuinea-Bissau                                                  1483\nBrazil                                                         1483\nLithuania                                                      1483\nOceania (excluding Australia and New Zealand)                  1483\nParaguay                                                       1483\n                                                               ... \nItaly                                                          1483\nCabo Verde                                                     1483\nRepublic of Moldova                                            1483\nGreenland                                                      1483\nNetherlands                                                    1483\nLess developed regions, excluding China                        1483\nDominica                                                       1483\nEgypt                                                          1483\nMozambique                                                     1483\nPapua New Guinea                                               1483\nCanada                                                         1483\nTokelau                                                        1483\nTrinidad and Tobago                                            1483\nSolomon Islands                                                1483\nIran (Islamic Republic of)                                     1483\nBurundi                                                        1483\nRomania                                                        1483\nColombia                                                       1483\nUruguay                                                        1483\nSub-Saharan Africa                                             1483\nMicronesia (Fed. States of)                                    1483\nMali                                                           1483\nKenya                                                          1483\nBelarus                                                        1483\nYemen                                                          1483\nFinland                                                        1483\nNorway                                                         1483\nIreland                                                        1483\nBosnia and Herzegovina                                         1483\nGeorgia                                                        1483\nName: Location, Length: 282, dtype: int64"
                    }, 
                    "execution_count": 20
                }
            ], 
            "metadata": {}
        }, 
        {
            "source": "df['Time'].value_counts()", 
            "cell_type": "code", 
            "execution_count": 21, 
            "outputs": [
                {
                    "output_type": "execute_result", 
                    "metadata": {}, 
                    "data": {
                        "text/plain": "2005    3705\n1975    3705\n2025    3705\n1980    3705\n2020    3705\n2100    3705\n2070    3705\n2015    3705\n2075    3705\n1985    3705\n2010    3705\n2095    3705\n1990    3705\n2080    3705\n2090    3705\n2085    3705\n2000    3705\n2065    3705\n1950    3705\n2060    3705\n2035    3705\n2045    3705\n1965    3705\n2050    3705\n1960    3705\n2040    3705\n2055    3705\n1970    3705\n1995    3705\n2030    3705\n        ... \n1967    2565\n1968    2565\n1969    2565\n1971    2565\n2046    2565\n1973    2565\n1974    2565\n1976    2565\n1977    2565\n1978    2565\n1979    2565\n1981    2565\n1982    2565\n1983    2565\n1984    2565\n1986    2565\n1987    2565\n1988    2565\n1989    2565\n1991    2565\n1992    2565\n1993    2565\n1994    2565\n1996    2565\n1997    2565\n1998    2565\n1999    2565\n2001    2565\n2002    2565\n2049    2565\nName: Time, Length: 151, dtype: int64"
                    }, 
                    "execution_count": 21
                }
            ], 
            "metadata": {}
        }, 
        {
            "source": "# installing seaborn\n!conda install -c anaconda seaborn -y", 
            "cell_type": "code", 
            "execution_count": 22, 
            "outputs": [
                {
                    "output_type": "stream", 
                    "name": "stdout", 
                    "text": "Solving environment: done\n\n## Package Plan ##\n\n  environment location: /opt/conda/envs/Python36\n\n  added / updated specs: \n    - seaborn\n\n\nThe following packages will be downloaded:\n\n    package                    |            build\n    ---------------------------|-----------------\n    ca-certificates-2019.5.15  |                1         134 KB  anaconda\n    seaborn-0.9.0              |           py36_0         379 KB  anaconda\n    certifi-2019.6.16          |           py36_1         156 KB  anaconda\n    openssl-1.1.1              |       h7b6447c_0         5.0 MB  anaconda\n    ------------------------------------------------------------\n                                           Total:         5.7 MB\n\nThe following packages will be UPDATED:\n\n    ca-certificates: 2019.5.15-0       --> 2019.5.15-1      anaconda\n    certifi:         2019.6.16-py36_1  --> 2019.6.16-py36_1 anaconda\n    openssl:         1.1.1c-h7b6447c_1 --> 1.1.1-h7b6447c_0 anaconda\n    seaborn:         0.9.0-py36_0      --> 0.9.0-py36_0     anaconda\n\n\nDownloading and Extracting Packages\nca-certificates-2019 | 134 KB    | ##################################### | 100% \nseaborn-0.9.0        | 379 KB    | ##################################### | 100% \ncertifi-2019.6.16    | 156 KB    | ##################################### | 100% \nopenssl-1.1.1        | 5.0 MB    | ##################################### | 100% \nPreparing transaction: done\nVerifying transaction: done\nExecuting transaction: done\n"
                }
            ], 
            "metadata": {}
        }, 
        {
            "source": "import seaborn as sns\n\nbins = np.linspace(df.Principal.min(), df.Principal.max(), 10)\ng = sns.FacetGrid(df, col=\"Gender\", hue=\"loan_status\", palette=\"Set1\", col_wrap=2)\ng.map(plt.hist, 'Principal', bins=bins, ec=\"k\")\n\ng.axes[-1].legend()\nplt.show()", 
            "cell_type": "code", 
            "execution_count": null, 
            "outputs": [], 
            "metadata": {}
        }, 
        {
            "source": "# to do\n# aggregate data by decades into a new data frame\n# create heatmaps per decades or oldest and latest\n# create boxplot to find outlier countries (very low or very high polulation growth rates)", 
            "cell_type": "code", 
            "execution_count": null, 
            "outputs": [], 
            "metadata": {}
        }, 
        {
            "source": "decade = 10 * (df['Time'] // 10)\ndecade = decade.astype(str) + 's'\ndecade.name = 'decade'", 
            "cell_type": "code", 
            "execution_count": 31, 
            "outputs": [], 
            "metadata": {}
        }, 
        {
            "source": "", 
            "cell_type": "code", 
            "execution_count": null, 
            "outputs": [], 
            "metadata": {}
        }, 
        {
            "source": "", 
            "cell_type": "code", 
            "execution_count": null, 
            "outputs": [], 
            "metadata": {}
        }
    ], 
    "nbformat": 4, 
    "metadata": {
        "kernelspec": {
            "display_name": "Python 3.6", 
            "name": "python3", 
            "language": "python"
        }, 
        "language_info": {
            "mimetype": "text/x-python", 
            "nbconvert_exporter": "python", 
            "version": "3.6.8", 
            "name": "python", 
            "pygments_lexer": "ipython3", 
            "file_extension": ".py", 
            "codemirror_mode": {
                "version": 3, 
                "name": "ipython"
            }
        }
    }
}